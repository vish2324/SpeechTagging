{
 "cells": [
  {
   "cell_type": "code",
   "execution_count": 74,
   "metadata": {},
   "outputs": [],
   "source": [
    "import pandas as pd"
   ]
  },
  {
   "cell_type": "code",
   "execution_count": 75,
   "metadata": {},
   "outputs": [],
   "source": [
    "file = open(\"./EN/train\",\"r\")  #Open training file\n",
    "l = [line.rstrip('\\n').split(\" \") for line in file]  #Remove newline character and split words and tags\n",
    "\n",
    "m = [['',\"Start\"]]  #First Start tag\n",
    "\n",
    "#Adds Stop and Start tags for each sentence\n",
    "for pair in l:\n",
    "    if len(pair) == 1:\n",
    "        m = m + [['',\"Stop\"]]\n",
    "        m = m + [['',\"Start\"]]\n",
    "    else:\n",
    "        m = m + [pair]\n",
    "\n",
    "m =  m[:-1]  #Drops last extra Start tag\n",
    "\n",
    "df = pd.DataFrame(m)  #convert Array to pandas DataFrame"
   ]
  },
  {
   "cell_type": "code",
   "execution_count": 76,
   "metadata": {},
   "outputs": [
    {
     "data": {
      "text/plain": [
       "{'B-NP': 2768,\n",
       " 'O': 2191,\n",
       " 'I-NP': 1904,\n",
       " 'B-VP': 1327,\n",
       " 'B-PP': 716,\n",
       " 'I-VP': 607,\n",
       " 'Stop': 551,\n",
       " 'Start': 551,\n",
       " 'B-ADVP': 386,\n",
       " 'B-INTJ': 257,\n",
       " 'B-ADJP': 159,\n",
       " 'I-INTJ': 88,\n",
       " 'B-PRT': 85,\n",
       " 'B-SBAR': 71,\n",
       " 'I-ADJP': 61,\n",
       " 'I-ADVP': 51,\n",
       " 'I-PP': 6,\n",
       " 'I-SBAR': 4,\n",
       " 'I-CONJP': 2,\n",
       " 'B-CONJP': 2}"
      ]
     },
     "execution_count": 76,
     "metadata": {},
     "output_type": "execute_result"
    }
   ],
   "source": [
    "tags = df[1].unique()  #Obtain all unique tags\n",
    "tagc_dict = df[1].value_counts().to_dict()  #Dictionary of word counts\n",
    "tagc_dict"
   ]
  },
  {
   "cell_type": "code",
   "execution_count": 77,
   "metadata": {},
   "outputs": [],
   "source": [
    "wordc_dfdict = {}  #Dictionary with word count dataframe\n",
    "for tag in tags:\n",
    "    temp_df = df.loc[df[1] == tag][0].value_counts().to_frame()\n",
    "    temp_df.columns = [tag]\n",
    "    wordc_dfdict[tag] = temp_df"
   ]
  },
  {
   "cell_type": "code",
   "execution_count": 78,
   "metadata": {},
   "outputs": [
    {
     "name": "stdout",
     "output_type": "stream",
     "text": [
      "       I-PP\n",
      "until     1\n",
      "and       1\n",
      "of        1\n",
      "After     1\n",
      "about     1\n",
      "in        1\n",
      "\n",
      "\n",
      "until    1\n",
      "and      1\n",
      "of       1\n",
      "After    1\n",
      "about    1\n",
      "in       1\n",
      "Name: I-PP, dtype: int64\n"
     ]
    }
   ],
   "source": [
    "print(wordc_dfdict[tag])\n",
    "print('\\n')\n",
    "print(wordc_dfdict[tag][tag])"
   ]
  },
  {
   "cell_type": "code",
   "execution_count": 79,
   "metadata": {},
   "outputs": [
    {
     "data": {
      "text/plain": [
       "314"
      ]
     },
     "execution_count": 79,
     "metadata": {},
     "output_type": "execute_result"
    }
   ],
   "source": [
    "tag = 'O'\n",
    "word = '.'\n",
    "\n",
    "def smoothing():  #To be defined properly\n",
    "    num_err = \"Smoothing to be applied to estimate\"\n",
    "    return num_err\n",
    "\n",
    "wordc_dfdict[tag][tag].get(word,smoothing())"
   ]
  },
  {
   "cell_type": "code",
   "execution_count": null,
   "metadata": {},
   "outputs": [],
   "source": []
  }
 ],
 "metadata": {
  "kernelspec": {
   "display_name": "Python 3",
   "language": "python",
   "name": "python3"
  },
  "language_info": {
   "codemirror_mode": {
    "name": "ipython",
    "version": 3
   },
   "file_extension": ".py",
   "mimetype": "text/x-python",
   "name": "python",
   "nbconvert_exporter": "python",
   "pygments_lexer": "ipython3",
   "version": "3.6.7"
  }
 },
 "nbformat": 4,
 "nbformat_minor": 2
}
